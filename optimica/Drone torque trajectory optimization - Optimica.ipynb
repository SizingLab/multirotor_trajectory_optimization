{
 "cells": [
  {
   "cell_type": "markdown",
   "metadata": {},
   "source": [
    "# Drone Trajectory Optimization using Optimica"
   ]
  },
  {
   "cell_type": "markdown",
   "metadata": {},
   "source": [
    "## Define optimization problem\n",
    "    In this part, we will write the optimica code to syntesize the optimization problem."
   ]
  },
  {
   "cell_type": "code",
   "execution_count": 1,
   "metadata": {},
   "outputs": [
    {
     "name": "stdout",
     "output_type": "stream",
     "text": [
      "Overwriting Drone_TorqueInput.mo\n"
     ]
    }
   ],
   "source": [
    "%%writefile Drone_TorqueInput.mo\n",
    "model Drone_TorqueInput\n",
    "\n",
    "    // The drone parameters\n",
    "    parameter Real Np=4 \"Propeller number\";\n",
    "    parameter Real M=1.3 \"Drone mass\";\n",
    "    parameter Real beta=0.34 \"Pitch angle coefficient\";\n",
    "    parameter Real Ct0=0.02791+0.11867*beta+0.27334*beta^2 - 0.28852*beta^3 \"Static Thrust coefficient\";\n",
    "    parameter Real Cp0=0.01813-0.06218*beta+0.35712*beta^2 - 0.23774*beta^3 \"Static Power coefficient\";\n",
    "    parameter Real Rho=1.18 \"Air mass volumic\";\n",
    "    parameter Real d=10*0.0254 \"Propeller diameter\";\n",
    "    parameter Real S=0.4*0.4 \"Surface\";\n",
    "    parameter Real Cd=1 \"Drag coefficient\";\n",
    "    parameter Real J_pro=1e-4 \"Propeller inertia\";\n",
    "    parameter Real K_mot=(1./760.) * 60./2./3.14 \"[V/(rad/s)] Motor torque coeff\";\n",
    "    parameter Real R_mot = 0.26 \"[Ohm] Motor resistance\";\n",
    "    parameter Real g=9.81 \"Gravity coeffcient\";\n",
    "\n",
    "    // The mission parameters\n",
    "    parameter Real H=10 \"Height\";\n",
    "    //\n",
    "    parameter Real n_hover=sqrt(M*g/Rho/Ct0/d^4/Np) \"Hover rotational speed\";\n",
    "    parameter Real T_hover=Rho*Cp0*n_hover^2*d^5/(2*3.14) \"Hover motor torque\";\n",
    "\n",
    "\n",
    "    // Aero coefficient\n",
    "    Real Ct \"Thrust coefficient\";\n",
    "    Real Cp \"Power coefficient\";\n",
    "    Real J \"Advance ratio\";\n",
    "\n",
    "    // The states\n",
    "    Real xp \"Speed\";\n",
    "    Real x \"Position\";\n",
    "    // The force and power\n",
    "    Real F \"Propeller force\";\n",
    "    Real P(min=0) \"Propeller power\";\n",
    "    Real E(min=0) \"Propeller energy\";\n",
    "    Real n \"Propeller speed (Hz)\";\n",
    "    Real w \"Motor speed (rad/s)\";\n",
    "    Real Pmot \"Motor losses\";\n",
    "\n",
    "    // Constraints variable\n",
    "\n",
    "  input Real T\n",
    "    annotation (Placement(transformation(extent={{-120,-60},{-80,-20}})));\n",
    "  Real Speed\n",
    "    annotation (Placement(transformation(extent={{90,-10},{110,10}})));\n",
    "  Real Position\n",
    "    annotation (Placement(transformation(extent={{90,-50},{110,-30}})));\n",
    "  Real Power\n",
    "    annotation (Placement(transformation(extent={{90,-90},{110,-70}})));\n",
    "  Real Acceleration\n",
    "    annotation (Placement(transformation(extent={{90,30},{110,50}})));\n",
    "  Real Energy\n",
    "    annotation (Placement(transformation(extent={{90,70},{110,90}})));\n",
    "\n",
    "equation\n",
    "    // Advance ratio\n",
    "    J=xp/n/d;\n",
    "\n",
    "    // C_t and C_d for APC props in dynamics\n",
    "    Ct=0.02791-0.06543*J+0.11867*beta+0.27334*beta^2 - 0.28852*beta^3 + 0.02104\n",
    "    *J^3 - 0.23504*J^2 + 0.18677*beta*J^2;\n",
    "    Cp=0.01813-0.06218*beta+0.00343*J+0.35712*beta^2 - 0.23774*beta^3 + 0.07549\n",
    "    *beta*J - 0.1235*J^2;\n",
    "\n",
    "    // Mechanical equations\n",
    "    der(x) = xp; // speed\n",
    "    F=Rho*Ct*n^2*d^4*Np; // Propellers force\n",
    "    M*der(xp) = F -1/2*Cd*S*xp* xp / sqrt(xp^2 + (1e-3)^2) -M*g; // PFD\n",
    "    P=Rho*Ct*n^3*d^5*Np; //Propellers power\n",
    "    J_pro*der(w)=T-Rho*Cp*n^2*d^5/(2*3.14); // Motor torque\n",
    "    w=n*2*3.14; // Speeds\n",
    "    Pmot=R_mot*(T/K_mot)^2; // Motor losses\n",
    "    der(E) = P;\n",
    "\n",
    "    //Output\n",
    "    Acceleration=der(xp);\n",
    "    Speed=xp;\n",
    "    Position=x;\n",
    "    Power=P+Np*Pmot;\n",
    "    Energy=E;\n",
    "    \n",
    "  annotation (Icon(coordinateSystem(preserveAspectRatio=false), graphics={\n",
    "        Rectangle(\n",
    "          extent={{-78,0},{80,-80}},\n",
    "          lineColor={28,108,200},\n",
    "          fillPattern=FillPattern.VerticalCylinder,\n",
    "          fillColor={255,0,0}),\n",
    "        Ellipse(\n",
    "          extent={{-100,40},{0,20}},\n",
    "          lineColor={28,108,200},\n",
    "          fillPattern=FillPattern.HorizontalCylinder,\n",
    "          fillColor={255,0,0}),\n",
    "        Ellipse(\n",
    "          extent={{0,40},{100,20}},\n",
    "          lineColor={28,108,200},\n",
    "          fillPattern=FillPattern.HorizontalCylinder,\n",
    "          fillColor={255,0,0}),\n",
    "        Rectangle(\n",
    "          extent={{-4,30},{4,0}},\n",
    "          lineColor={28,108,200},\n",
    "          fillPattern=FillPattern.VerticalCylinder,\n",
    "          fillColor={255,0,0}),\n",
    "        Text(\n",
    "          extent={{-120,12},{-84,-24}},\n",
    "          lineColor={28,108,200},\n",
    "          fillPattern=FillPattern.VerticalCylinder,\n",
    "          fillColor={255,0,0},\n",
    "          textString=\"T\")}),                                     Diagram(\n",
    "        coordinateSystem(preserveAspectRatio=false)));\n",
    "end Drone_TorqueInput;"
   ]
  },
  {
   "cell_type": "code",
   "execution_count": 2,
   "metadata": {},
   "outputs": [
    {
     "name": "stdout",
     "output_type": "stream",
     "text": [
      "Overwriting Simu_Init.mo\n"
     ]
    }
   ],
   "source": [
    "%%writefile Simu_Init.mo\n",
    "model Simu_Init\n",
    "    Drone_TorqueInput drone;\n",
    "\n",
    "  Real T;\n",
    "    \n",
    "equation\n",
    "    T = drone.T;\n",
    "    drone.Position = (if time < 0.2 then 0 else if time < (0.2 + 4.6) then (time - 0.2)*10/4.6 else 10);\n",
    "end Simu_Init;"
   ]
  },
  {
   "cell_type": "markdown",
   "metadata": {},
   "source": [
    "L'objectif est de minimiser l'energie consommée pour un vol de 5 s et avec les contraintes suivantes:\n",
    "- la vitesse finale du drone doit etre nulle\n",
    "- la position finale doit valoir 10m\n",
    "- la vitesse de rotation moteur finale du drone doit permettre d'assurer le hover\n",
    "\n",
    "Les position et vitesses initiales doivent être nulle mais c'est spécifié dans le modèle Modelica."
   ]
  },
  {
   "cell_type": "code",
   "execution_count": 3,
   "metadata": {},
   "outputs": [
    {
     "name": "stdout",
     "output_type": "stream",
     "text": [
      "Overwriting OptimTraj.mop\n"
     ]
    }
   ],
   "source": [
    "%%writefile OptimTraj.mop\n",
    "optimization OptimTraj (objective=drone.Energy(finalTime), startTime=0, finalTime=5)\n",
    "    Drone_TorqueInput drone(n(start=drone.n_hover,fixed=true));\n",
    "\n",
    "  Modelica.Blocks.Interfaces.RealInput T\n",
    "    annotation (Placement(transformation(extent={{-120,-60},{-80,-20}})));\n",
    "    \n",
    "equation\n",
    "    T = drone.T;\n",
    "constraint\n",
    "    drone.n(startTime) = drone.n_hover;\n",
    "    drone.Position(startTime) = 0;\n",
    "    drone.Position(finalTime) = 10;\n",
    "    drone.Speed(startTime) = 0;\n",
    "    drone.Speed(finalTime) = 0;\n",
    "    drone.Acceleration(startTime) = 0;\n",
    "    drone.Acceleration(finalTime) = 0;\n",
    "end OptimTraj;"
   ]
  },
  {
   "cell_type": "code",
   "execution_count": 4,
   "metadata": {},
   "outputs": [],
   "source": [
    "from pymodelica import compile_fmu\n",
    "from pyfmi import load_fmu\n",
    "from pyjmi import transfer_optimization_problem\n",
    "# Import the plotting library\n",
    "import matplotlib.pyplot as plt"
   ]
  },
  {
   "cell_type": "code",
   "execution_count": 5,
   "metadata": {},
   "outputs": [
    {
     "name": "stdout",
     "output_type": "stream",
     "text": [
      "Final Run Statistics: --- \n",
      "\n",
      " Number of steps                                 : 506\n",
      " Number of function evaluations                  : 514\n",
      " Number of Jacobian evaluations                  : 9\n",
      " Number of function eval. due to Jacobian eval.  : 9\n",
      " Number of error test failures                   : 0\n",
      " Number of nonlinear iterations                  : 506\n",
      " Number of nonlinear convergence failures        : 0\n",
      " Number of time events                           : 1\n",
      "\n",
      "Solver options:\n",
      "\n",
      " Solver                   : CVode\n",
      " Linear multistep method  : BDF\n",
      " Nonlinear solver         : Newton\n",
      " Linear solver type       : DENSE\n",
      " Maximal order            : 5\n",
      " Tolerances (absolute)    : 1.0000000000000002e-06\n",
      " Tolerances (relative)    : 0.0001\n",
      "\n",
      "Simulation interval    : 0.0 - 1.0 seconds.\n",
      "Elapsed simulation time: 0.02522910000000067 seconds.\n"
     ]
    }
   ],
   "source": [
    "init_model_name = 'Drone_Simu_Position.mo'\n",
    "import os\n",
    "cwd = os.getcwd()\n",
    "lib = cwd#[os.path.join(cwd, init_model_name)]\n",
    "fmu = compile_fmu('Simu_Init', ['Simu_Init.mo', 'Drone_TorqueInput.mo'])\n",
    "model_init = load_fmu(fmu)\n",
    "init_res = model_init.simulate()"
   ]
  },
  {
   "cell_type": "code",
   "execution_count": 6,
   "metadata": {},
   "outputs": [],
   "source": [
    "# Transfer the optimization problem to casadi\n",
    "op = transfer_optimization_problem(\"OptimTraj\", [\"OptimTraj.mop\",\"Drone_TorqueInput.mo\"], compiler_log_level='debug')\n",
    "opts = op.optimize_options()\n",
    "opts[\"n_cp\"] = 3\n",
    "opts[\"n_e\"] = 10\n",
    "opts[\"init_traj\"] = init_res\n",
    "opts[\"nominal_traj\"] = init_res\n",
    "opts['IPOPT_options']['tol'] = 1e-10\n",
    "#print(opts[\"solver\"])"
   ]
  },
  {
   "cell_type": "code",
   "execution_count": 7,
   "metadata": {},
   "outputs": [
    {
     "name": "stdout",
     "output_type": "stream",
     "text": [
      "Warning: Nominal trajectory for variable der(drone.w) is identically zero. Using nominal attribute instead.\n",
      "Warning: Nominal trajectory for variable der(drone.Speed) is identically zero. Using nominal attribute instead.\n",
      "Warning: Nominal trajectory for variable drone.Acceleration is identically zero. Using nominal attribute instead.\n",
      "\n",
      "******************************************************************************\n",
      "This program contains Ipopt, a library for large-scale nonlinear optimization.\n",
      " Ipopt is released as open source code under the Eclipse Public License (EPL).\n",
      "         For more information visit http://projects.coin-or.org/Ipopt\n",
      "******************************************************************************\n",
      "\n",
      "This is Ipopt version 3.12.4, running with linear solver ma57.\n",
      "\n",
      "Number of nonzeros in equality constraint Jacobian...:     1769\n",
      "Number of nonzeros in inequality constraint Jacobian.:        0\n",
      "Number of nonzeros in Lagrangian Hessian.............:      217\n",
      "\n",
      "Total number of variables............................:      625\n",
      "                     variables with only lower bounds:       71\n",
      "                variables with lower and upper bounds:        0\n",
      "                     variables with only upper bounds:        0\n",
      "Total number of equality constraints.................:      599\n",
      "Total number of inequality constraints...............:        0\n",
      "        inequality constraints with only lower bounds:        0\n",
      "   inequality constraints with lower and upper bounds:        0\n",
      "        inequality constraints with only upper bounds:        0\n",
      "\n",
      "iter    objective    inf_pr   inf_du lg(mu)  ||d||  lg(rg) alpha_du alpha_pr  ls\n",
      "   0  2.9254012e+02 1.48e+02 9.90e+01  -1.0 0.00e+00    -  0.00e+00 0.00e+00   0\n",
      "   1  3.0012356e+02 1.47e+02 9.89e+01  -1.0 1.49e+04    -  2.11e-01 8.92e-03h  1\n",
      "   2  4.4657145e+02 1.28e+02 8.66e+01  -1.0 7.66e+03    -  2.22e-01 1.25e-01h  4\n",
      "   3  1.4745207e+03 3.20e+01 2.86e+01  -1.0 6.66e+02    -  4.26e-01 1.00e+00h  1\n",
      "   4  1.4864745e+03 3.31e-01 4.29e+00  -1.0 1.22e+03    -  8.21e-01 1.00e+00H  1\n",
      "   5  1.4864817e+03 3.79e-02 3.72e-03  -1.0 4.80e+01    -  1.00e+00 1.00e+00h  1\n",
      "   6  1.4860863e+03 3.07e-01 1.56e-02  -2.5 1.23e+02    -  1.00e+00 9.98e-01h  1\n",
      "   7  1.4861453e+03 4.44e-04 1.93e-05  -2.5 3.37e+00    -  1.00e+00 1.00e+00h  1\n",
      "   8  1.4861374e+03 2.52e-04 1.27e-05  -3.8 3.50e+00    -  1.00e+00 1.00e+00h  1\n",
      "   9  1.4861370e+03 7.90e-07 3.99e-08  -5.7 1.96e-01    -  1.00e+00 1.00e+00h  1\n",
      "iter    objective    inf_pr   inf_du lg(mu)  ||d||  lg(rg) alpha_du alpha_pr  ls\n",
      "  10  1.4861370e+03 1.20e-10 6.07e-12  -8.6 2.41e-03    -  1.00e+00 1.00e+00h  1\n",
      "  11  1.4861370e+03 2.84e-12 4.55e-14 -11.0 3.27e-06    -  1.00e+00 1.00e+00h  1\n",
      "\n",
      "Number of Iterations....: 11\n",
      "\n",
      "                                   (scaled)                 (unscaled)\n",
      "Objective...............:   5.0801133655300765e+02    1.4861369896453723e+03\n",
      "Dual infeasibility......:   4.5471484224750352e-14    1.3302233595613141e-13\n",
      "Constraint violation....:   1.2898999354547314e-13    2.8421709430404007e-12\n",
      "Complementarity.........:   9.0909129018697850e-12    2.6594567799971374e-11\n",
      "Overall NLP error.......:   9.0909129018697850e-12    2.6594567799971374e-11\n",
      "\n",
      "\n",
      "Number of objective function evaluations             = 20\n",
      "Number of objective gradient evaluations             = 12\n",
      "Number of equality constraint evaluations            = 20\n",
      "Number of inequality constraint evaluations          = 0\n",
      "Number of equality constraint Jacobian evaluations   = 12\n",
      "Number of inequality constraint Jacobian evaluations = 0\n",
      "Number of Lagrangian Hessian evaluations             = 11\n",
      "Total CPU secs in IPOPT (w/o function evaluations)   =      0.057\n",
      "Total CPU secs in NLP function evaluations           =      0.002\n",
      "\n",
      "EXIT: Optimal Solution Found.\n",
      "                   proc           wall      num           mean             mean\n",
      "                   time           time     evals       proc time        wall time\n",
      "        nlp_f     0.000 [s]      0.000 [s]    20       0.00 [ms]        0.00 [ms]\n",
      "        nlp_g     0.001 [s]      0.001 [s]    20       0.05 [ms]        0.03 [ms]\n",
      "   nlp_grad_f     0.000 [s]      0.000 [s]    13       0.00 [ms]        0.00 [ms]\n",
      "    nlp_jac_g     0.001 [s]      0.001 [s]    13       0.08 [ms]        0.04 [ms]\n",
      "   nlp_hess_l     0.000 [s]      0.000 [s]    11       0.00 [ms]        0.02 [ms]\n",
      " all previous     0.002 [s]      0.001 [s]\n",
      "callback_prep     0.000 [s]      0.000 [s]    12       0.00 [ms]        0.01 [ms]\n",
      "       solver     0.057 [s]      0.058 [s]\n",
      "     mainloop     0.059 [s]      0.059 [s]\n",
      "\n",
      "Initialization time: 0.10 seconds\n",
      "\n",
      "Total time: 0.17 seconds\n",
      "Pre-processing time: 0.00 seconds\n",
      "Solution time: 0.06 seconds\n",
      "Post-processing time: 0.01 seconds\n",
      "\n"
     ]
    }
   ],
   "source": [
    "res = op.optimize(options=opts)"
   ]
  },
  {
   "cell_type": "code",
   "execution_count": 8,
   "metadata": {},
   "outputs": [
    {
     "name": "stdout",
     "output_type": "stream",
     "text": [
      "Energy at the end of the trajectory is 1486.14 Joules\n"
     ]
    }
   ],
   "source": [
    "t = res['time']\n",
    "x = res['drone.x']\n",
    "xp = res['drone.xp']\n",
    "n = res['drone.n']\n",
    "T = res['drone.T']\n",
    "E = res['drone.Energy']\n",
    "A = res['drone.Acceleration']\n",
    "print(f\"Energy at the end of the trajectory is {round(E[-1], 2)} Joules\")"
   ]
  },
  {
   "cell_type": "code",
   "execution_count": 9,
   "metadata": {},
   "outputs": [
    {
     "data": {
      "image/png": "[encoded data removed]",
      "text/plain": [
       "<Figure size 432x288 with 1 Axes>"
      ]
     },
     "metadata": {
      "needs_background": "light"
     },
     "output_type": "display_data"
    },
    {
     "data": {
      "image/png": "[encoded data removed]",
      "text/plain": [
       "<Figure size 432x288 with 1 Axes>"
      ]
     },
     "metadata": {
      "needs_background": "light"
     },
     "output_type": "display_data"
    },
    {
     "data": {
      "image/png": "[encoded data removed]",
      "text/plain": [
       "<Figure size 432x288 with 1 Axes>"
      ]
     },
     "metadata": {
      "needs_background": "light"
     },
     "output_type": "display_data"
    },
    {
     "data": {
      "image/png": "[encoded data removed]",
      "text/plain": [
       "<Figure size 432x288 with 1 Axes>"
      ]
     },
     "metadata": {
      "needs_background": "light"
     },
     "output_type": "display_data"
    },
    {
     "data": {
      "image/png": "[encoded data removed]",
      "text/plain": [
       "<Figure size 432x288 with 1 Axes>"
      ]
     },
     "metadata": {
      "needs_background": "light"
     },
     "output_type": "display_data"
    },
    {
     "data": {
      "image/png": "[encoded data removed]",
      "text/plain": [
       "<Figure size 432x288 with 1 Axes>"
      ]
     },
     "metadata": {
      "needs_background": "light"
     },
     "output_type": "display_data"
    }
   ],
   "source": [
    "import matplotlib.pyplot as plt\n",
    "plt.plot(t,x,'r')\n",
    "plt.ylabel('Position')\n",
    "plt.xlabel('t (s)')\n",
    "plt.show()\n",
    "plt.plot(t, xp,'k')\n",
    "plt.ylabel('Speed')\n",
    "plt.xlabel('t (s)')\n",
    "plt.show()\n",
    "plt.plot(t,n,'b')\n",
    "plt.ylabel('Rotational Speed')\n",
    "plt.xlabel('t (s)')\n",
    "plt.show()\n",
    "plt.plot(t,T,'b')\n",
    "plt.ylabel('Motor Torque')\n",
    "plt.xlabel('t (s)')\n",
    "plt.show()\n",
    "plt.plot(t,E,'g')\n",
    "plt.ylabel('Energy')\n",
    "plt.xlabel('t (s)')\n",
    "plt.show()\n",
    "plt.plot(t,A,'g')\n",
    "plt.ylabel('Acceleration')\n",
    "plt.xlabel('t (s)')\n",
    "plt.show()"
   ]
  }
 ],
 "metadata": {
  "kernelspec": {
   "display_name": "Python 3",
   "language": "python",
   "name": "python3"
  },
  "language_info": {
   "codemirror_mode": {
    "name": "ipython",
    "version": 3
   },
   "file_extension": ".py",
   "mimetype": "text/x-python",
   "name": "python",
   "nbconvert_exporter": "python",
   "pygments_lexer": "ipython3",
   "version": "3.8.3"
  }
 },
 "nbformat": 4,
 "nbformat_minor": 4
}
