{
 "cells": [
  {
   "cell_type": "markdown",
   "metadata": {},
   "source": [
    "# Multirotor trajectory optimization with openmdao and FMU"
   ]
  },
  {
   "cell_type": "code",
   "execution_count": 1,
   "metadata": {},
   "outputs": [
    {
     "name": "stdout",
     "output_type": "stream",
     "text": [
      "Unable to import mpi4py. Parallel processing unavailable.\n",
      "Unable to import petsc4py. Parallel processing unavailable.\n",
      "Unable to import petsc4py. Parallel processing unavailable.\n"
     ]
    }
   ],
   "source": [
    "import os.path as pth\n",
    "import numpy as np\n",
    "import matplotlib.pyplot as plt\n",
    "import openmdao.api as om"
   ]
  },
  {
   "cell_type": "code",
   "execution_count": 2,
   "metadata": {},
   "outputs": [],
   "source": [
    "# Loading the different FMUs\n",
    "\n",
    "from pyfmi import load_fmu\n",
    "\n",
    "ressources_folder = \"../ressources\"\n",
    "speed_model_file_name = \"DroneFMU.DroneOptim_Speed.fmu\"\n",
    "torque_model_file_name = \"DroneFMU.DroneOptim_Torque.fmu\"\n",
    "\n",
    "speed_file_path = pth.join(ressources_folder, speed_model_file_name)\n",
    "torque_file_path = pth.join(ressources_folder, torque_model_file_name)\n",
    "\n",
    "#Load the FMU\n",
    "speed_model = load_fmu(speed_file_path) # Model\n",
    "torque_model = load_fmu(torque_file_path) # Model"
   ]
  },
  {
   "cell_type": "markdown",
   "metadata": {},
   "source": [
    "## Running the problem"
   ]
  },
  {
   "cell_type": "code",
   "execution_count": 3,
   "metadata": {},
   "outputs": [
    {
     "name": "stdout",
     "output_type": "stream",
     "text": [
      "INFO: checking out_of_order\n",
      "INFO: checking system\n",
      "INFO: checking solvers\n",
      "INFO: checking dup_inputs\n",
      "INFO: checking missing_recorders\n",
      "WARNING: The Problem has no recorder of any kind attached\n",
      "INFO: checking comp_has_no_outputs\n",
      "INFO: checking auto_ivc_warnings\n",
      "Simulation interval    : 0.0 - 5.0 seconds.\n",
      "Elapsed simulation time: 0.03487829999999992 seconds.\n"
     ]
    }
   ],
   "source": [
    "from trajectory import Model\n",
    "\n",
    "num_points = 100\n",
    "num_simu_points = 500\n",
    "final_time = 5.\n",
    "use_torque = True\n",
    "model = torque_model\n",
    "\n",
    "# Initial torque\n",
    "torque = np.linspace(1., 1., num=num_points)\n",
    "\n",
    "prob = om.Problem()\n",
    "prob.model = Model(\n",
    "                num_points=num_points,\n",
    "                num_simu_points=num_simu_points,\n",
    "                final_time=final_time,\n",
    "                use_torque=use_torque,\n",
    "                model=model,\n",
    ")\n",
    "\n",
    "prob.setup(check=True)\n",
    "\n",
    "prob[\"torque\"] = torque\n",
    "\n",
    "prob.run_model()\n"
   ]
  },
  {
   "cell_type": "code",
   "execution_count": 4,
   "metadata": {},
   "outputs": [
    {
     "data": {
      "text/plain": [
       "array([ 0.00000000e+00, -1.39962586e-18, -6.28445867e-18, -1.46544984e-17,\n",
       "       -2.65097452e-17, -4.18501989e-17, -6.06758595e-17, -8.29867271e-17,\n",
       "       -1.08782802e-16, -1.38064083e-16, -1.70830572e-16, -2.07082267e-16,\n",
       "       -2.46819169e-16, -2.90041279e-16, -3.36748595e-16, -3.86941118e-16,\n",
       "       -4.40618849e-16, -4.97781786e-16, -5.58429930e-16, -6.22563281e-16,\n",
       "       -6.90181839e-16, -7.61285604e-16, -8.35874576e-16, -9.13948755e-16,\n",
       "       -9.95508141e-16, -1.08055412e-15, -1.16908946e-15, -1.26111001e-15,\n",
       "       -1.35661577e-15, -1.45560673e-15, -1.55808290e-15, -1.66404428e-15,\n",
       "       -1.77349087e-15, -1.88642266e-15, -2.00283966e-15, -2.12274186e-15,\n",
       "       -2.24612927e-15, -2.37300189e-15, -2.50335972e-15, -2.63720275e-15,\n",
       "       -2.77453099e-15, -2.91534444e-15, -3.05964309e-15, -3.20742696e-15,\n",
       "       -3.35869602e-15, -3.51345030e-15, -3.67168978e-15, -3.83341447e-15,\n",
       "       -3.99862437e-15, -4.16731947e-15, -4.33950255e-15, -4.51517361e-15,\n",
       "       -4.69432988e-15, -4.87697135e-15, -5.06309803e-15, -5.25270992e-15,\n",
       "       -5.44580701e-15, -5.64238932e-15, -5.84245682e-15, -6.04600954e-15,\n",
       "       -6.25304746e-15, -6.46357059e-15, -6.67757893e-15, -6.89507247e-15,\n",
       "       -7.11605122e-15, -7.34051518e-15, -7.56846434e-15, -7.79989871e-15,\n",
       "       -8.03481829e-15, -8.27322308e-15, -8.51511307e-15, -8.76048827e-15,\n",
       "       -9.00934868e-15, -9.26169429e-15, -9.51752511e-15, -9.77684529e-15,\n",
       "       -1.00396521e-14, -1.03059441e-14, -1.05757212e-14, -1.08489836e-14,\n",
       "       -1.11257312e-14, -1.14059641e-14, -1.16896821e-14, -1.19768853e-14,\n",
       "       -1.22675737e-14, -1.25617474e-14, -1.28594062e-14, -1.31605503e-14,\n",
       "       -1.34651795e-14, -1.37732940e-14, -1.40848937e-14, -1.43999786e-14,\n",
       "       -1.47185486e-14, -1.50406039e-14, -1.53661444e-14, -1.56951702e-14,\n",
       "       -1.60276811e-14, -1.63636772e-14, -1.67031585e-14, -1.70461251e-14])"
      ]
     },
     "execution_count": 4,
     "metadata": {},
     "output_type": "execute_result"
    }
   ],
   "source": [
    "prob['position']"
   ]
  },
  {
   "cell_type": "code",
   "execution_count": null,
   "metadata": {},
   "outputs": [],
   "source": []
  }
 ],
 "metadata": {
  "kernelspec": {
   "display_name": "Python 3",
   "language": "python",
   "name": "python3"
  },
  "language_info": {
   "codemirror_mode": {
    "name": "ipython",
    "version": 3
   },
   "file_extension": ".py",
   "mimetype": "text/x-python",
   "name": "python",
   "nbconvert_exporter": "python",
   "pygments_lexer": "ipython3",
   "version": "3.8.3"
  }
 },
 "nbformat": 4,
 "nbformat_minor": 4
}
