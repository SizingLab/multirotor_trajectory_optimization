{
 "cells": [
  {
   "cell_type": "markdown",
   "metadata": {},
   "source": [
    "<div class=\"row\">\n",
    "  <div class=\"column\">\n",
    "    <img src=\"./img/logo-onera.png\" width=\"200\">\n",
    "  </div>\n",
    "  <div class=\"column\">\n",
    "    <img src=\"./img/logo-ISAE_SUPAERO.png\" width=\"200\">\n",
    "  </div>\n",
    "</div>"
   ]
  },
  {
   "cell_type": "markdown",
   "metadata": {},
   "source": [
    "# FAST-OAD Tutorial"
   ]
  },
  {
   "cell_type": "markdown",
   "metadata": {},
   "source": [
    "FAST-OAD is a framework for performing rapid Overall Aircraft Design. The computational core of FAST-OAD is based on the  [OpenMDAO framework](https://openmdao.org/)."
   ]
  },
  {
   "cell_type": "markdown",
   "metadata": {},
   "source": [
    "## 1. Setting up and analyzing the initial problem"
   ]
  },
  {
   "cell_type": "markdown",
   "metadata": {},
   "source": [
    "To organize our work, we propose to use two user folders `data/` and `workdir/`. For instance, in `data/` we store a XML file which describes the [CeRAS reference case](http://ceras.ilr.rwth-aachen.de/trac/wiki/CeRAS/AircraftDesigns/CSR01). In `workdir/`, we store files generated or modified by FAST-OAD."
   ]
  },
  {
   "cell_type": "code",
   "execution_count": 1,
   "metadata": {},
   "outputs": [
    {
     "name": "stdout",
     "output_type": "stream",
     "text": [
      "Unable to import mpi4py. Parallel processing unavailable.\n",
      "Unable to import petsc4py. Parallel processing unavailable.\n",
      "Unable to import petsc4py. Parallel processing unavailable.\n"
     ]
    },
    {
     "data": {
      "text/html": [
       "<style>.container { width:95% !important; }</style>"
      ],
      "text/plain": [
       "<IPython.core.display.HTML object>"
      ]
     },
     "metadata": {},
     "output_type": "display_data"
    }
   ],
   "source": [
    "import os\n",
    "import os.path as pth\n",
    "import openmdao.api as om\n",
    "from fastoad import api\n",
    "import logging\n",
    "from fastoad.utils.postprocessing import VariableViewer\n",
    "import shutil\n",
    "from models.register import register_openmdao_systems\n",
    "register_openmdao_systems()\n",
    "DATA_FOLDER_PATH = 'data'\n",
    "\n",
    "WORK_FOLDER_PATH = 'workdir'\n",
    "\n",
    "CONFIGURATION_FILE = pth.join('./','multirotor.toml')\n",
    "\n",
    "# For having log messages on screen\n",
    "logging.basicConfig(level=logging.INFO, format='%(levelname)-8s: %(message)s')\n",
    "\n",
    "# For using all screen width\n",
    "from IPython.core.display import display, HTML\n",
    "display(HTML(\"<style>.container { width:95% !important; }</style>\"))"
   ]
  },
  {
   "cell_type": "markdown",
   "metadata": {},
   "source": [
    "After defining a configuration file name, we can ask FAST-OAD to generate a default configuration file based on the default OAD model implemented in the framework:"
   ]
  },
  {
   "cell_type": "markdown",
   "metadata": {},
   "source": [
    "In this configuration file, we have specified an input file name 'problem_inputs.xml'. We can ask FAST-OAD to generate the inputs of the default model with the CeRAS parameters as default values:"
   ]
  },
  {
   "cell_type": "code",
   "execution_count": 2,
   "metadata": {},
   "outputs": [],
   "source": [
    "# api.generate_inputs(CONFIGURATION_FILE, overwrite=True)"
   ]
  },
  {
   "cell_type": "markdown",
   "metadata": {},
   "source": [
    "You can now checkout the generated [input file](./workdir/problem_inputs.xml). As shown previously in the user file architecture, the values in this file can be modified by the user and will be considered by FAST-OAD when executing a computational process."
   ]
  },
  {
   "cell_type": "markdown",
   "metadata": {},
   "source": [
    "A useful feature that FAST-OAD provides is to list the outputs of the model defined in the configuration file:"
   ]
  },
  {
   "cell_type": "code",
   "execution_count": 2,
   "metadata": {},
   "outputs": [
    {
     "name": "stderr",
     "output_type": "stream",
     "text": [
      "INFO    : Loading bundles from D:\\s.delbecq\\Documents\\6-Repositories\\multirotor_trajectory_optimization\\openmdao\\models\n",
      "INFO    : Installed bundle models.multirotor (ID 30 )\n",
      "INFO    : Installed bundle models.propeller (ID 25 )\n",
      "INFO    : Installed bundle models.mission (ID 29 )\n",
      "INFO    : Installed bundle models.sizing_scenarios (ID 24 )\n",
      "INFO    : Installed bundle models.frame (ID 28 )\n",
      "INFO    : Installed bundle models (ID 31 )\n",
      "INFO    : Installed bundle models.battery_and_esc (ID 27 )\n",
      "INFO    : Installed bundle models.register (ID 32 )\n",
      "INFO    : Installed bundle models.motor (ID 26 )\n",
      "d:\\users\\s.delbecq\\appdata\\local\\programs\\miniconda3\\lib\\site-packages\\openmdao\\core\\group.py:1937: UserWarning:<model> <class Group>: Output 'motor.current_and_voltage.data:motor:power:hover' with units of 'W' is connected to input 'mission.data:motor:power:hover' which has no units.\n"
     ]
    },
    {
     "data": {
      "text/html": [
       "<table border=\"1\" class=\"dataframe\">\n",
       "  <thead>\n",
       "    <tr style=\"text-align: right;\">\n",
       "      <th></th>\n",
       "      <th>I/O</th>\n",
       "      <th>Name</th>\n",
       "      <th>Description</th>\n",
       "    </tr>\n",
       "  </thead>\n",
       "  <tbody>\n",
       "    <tr>\n",
       "      <th>0</th>\n",
       "      <td>IN</td>\n",
       "      <td>data:battery:capacity:discharge_limit</td>\n",
       "      <td></td>\n",
       "    </tr>\n",
       "    <tr>\n",
       "      <th>1</th>\n",
       "      <td>IN</td>\n",
       "      <td>data:battery:cell:voltage</td>\n",
       "      <td></td>\n",
       "    </tr>\n",
       "    <tr>\n",
       "      <th>2</th>\n",
       "      <td>IN</td>\n",
       "      <td>data:battery:energy:ref</td>\n",
       "      <td></td>\n",
       "    </tr>\n",
       "    <tr>\n",
       "      <th>3</th>\n",
       "      <td>IN</td>\n",
       "      <td>data:battery:mass:k</td>\n",
       "      <td></td>\n",
       "    </tr>\n",
       "    <tr>\n",
       "      <th>4</th>\n",
       "      <td>IN</td>\n",
       "      <td>data:battery:mass:ref</td>\n",
       "      <td></td>\n",
       "    </tr>\n",
       "    <tr>\n",
       "      <th>5</th>\n",
       "      <td>IN</td>\n",
       "      <td>data:battery:voltage:k</td>\n",
       "      <td></td>\n",
       "    </tr>\n",
       "    <tr>\n",
       "      <th>6</th>\n",
       "      <td>IN</td>\n",
       "      <td>data:esc:efficiency</td>\n",
       "      <td></td>\n",
       "    </tr>\n",
       "    <tr>\n",
       "      <th>7</th>\n",
       "      <td>IN</td>\n",
       "      <td>data:esc:mass:ref</td>\n",
       "      <td></td>\n",
       "    </tr>\n",
       "    <tr>\n",
       "      <th>8</th>\n",
       "      <td>IN</td>\n",
       "      <td>data:esc:power:ref</td>\n",
       "      <td></td>\n",
       "    </tr>\n",
       "    <tr>\n",
       "      <th>9</th>\n",
       "      <td>IN</td>\n",
       "      <td>data:frame:arm:density</td>\n",
       "      <td></td>\n",
       "    </tr>\n",
       "    <tr>\n",
       "      <th>10</th>\n",
       "      <td>IN</td>\n",
       "      <td>data:frame:arm:diameter:k</td>\n",
       "      <td></td>\n",
       "    </tr>\n",
       "    <tr>\n",
       "      <th>11</th>\n",
       "      <td>IN</td>\n",
       "      <td>data:frame:arm:number</td>\n",
       "      <td></td>\n",
       "    </tr>\n",
       "    <tr>\n",
       "      <th>12</th>\n",
       "      <td>IN</td>\n",
       "      <td>data:frame:arm:propeller_number</td>\n",
       "      <td></td>\n",
       "    </tr>\n",
       "    <tr>\n",
       "      <th>13</th>\n",
       "      <td>IN</td>\n",
       "      <td>data:frame:arm:stress:max</td>\n",
       "      <td></td>\n",
       "    </tr>\n",
       "    <tr>\n",
       "      <th>14</th>\n",
       "      <td>IN</td>\n",
       "      <td>data:mission:hover:time</td>\n",
       "      <td></td>\n",
       "    </tr>\n",
       "    <tr>\n",
       "      <th>15</th>\n",
       "      <td>IN</td>\n",
       "      <td>data:mission:travel:displacement:number</td>\n",
       "      <td></td>\n",
       "    </tr>\n",
       "    <tr>\n",
       "      <th>16</th>\n",
       "      <td>IN</td>\n",
       "      <td>data:mission:travel:energy</td>\n",
       "      <td></td>\n",
       "    </tr>\n",
       "    <tr>\n",
       "      <th>17</th>\n",
       "      <td>IN</td>\n",
       "      <td>data:motor:Kt:ref</td>\n",
       "      <td></td>\n",
       "    </tr>\n",
       "    <tr>\n",
       "      <th>18</th>\n",
       "      <td>IN</td>\n",
       "      <td>data:motor:friction:ref</td>\n",
       "      <td></td>\n",
       "    </tr>\n",
       "    <tr>\n",
       "      <th>19</th>\n",
       "      <td>IN</td>\n",
       "      <td>data:motor:mass:ref</td>\n",
       "      <td></td>\n",
       "    </tr>\n",
       "    <tr>\n",
       "      <th>20</th>\n",
       "      <td>IN</td>\n",
       "      <td>data:motor:resistance:ref</td>\n",
       "      <td></td>\n",
       "    </tr>\n",
       "    <tr>\n",
       "      <th>21</th>\n",
       "      <td>IN</td>\n",
       "      <td>data:motor:speed:k</td>\n",
       "      <td></td>\n",
       "    </tr>\n",
       "    <tr>\n",
       "      <th>22</th>\n",
       "      <td>IN</td>\n",
       "      <td>data:motor:torque:hover:k</td>\n",
       "      <td></td>\n",
       "    </tr>\n",
       "    <tr>\n",
       "      <th>23</th>\n",
       "      <td>IN</td>\n",
       "      <td>data:motor:torque:max:ref</td>\n",
       "      <td></td>\n",
       "    </tr>\n",
       "    <tr>\n",
       "      <th>24</th>\n",
       "      <td>IN</td>\n",
       "      <td>data:motor:torque:nominal:ref</td>\n",
       "      <td></td>\n",
       "    </tr>\n",
       "    <tr>\n",
       "      <th>25</th>\n",
       "      <td>IN</td>\n",
       "      <td>data:propeller:ND:k</td>\n",
       "      <td></td>\n",
       "    </tr>\n",
       "    <tr>\n",
       "      <th>26</th>\n",
       "      <td>IN</td>\n",
       "      <td>data:propeller:ND:max</td>\n",
       "      <td></td>\n",
       "    </tr>\n",
       "    <tr>\n",
       "      <th>27</th>\n",
       "      <td>IN</td>\n",
       "      <td>data:propeller:diameter:ref</td>\n",
       "      <td></td>\n",
       "    </tr>\n",
       "    <tr>\n",
       "      <th>28</th>\n",
       "      <td>IN</td>\n",
       "      <td>data:propeller:mass:ref</td>\n",
       "      <td></td>\n",
       "    </tr>\n",
       "    <tr>\n",
       "      <th>29</th>\n",
       "      <td>IN</td>\n",
       "      <td>data:propeller:number</td>\n",
       "      <td></td>\n",
       "    </tr>\n",
       "    <tr>\n",
       "      <th>30</th>\n",
       "      <td>IN</td>\n",
       "      <td>data:propeller:pitch</td>\n",
       "      <td></td>\n",
       "    </tr>\n",
       "    <tr>\n",
       "      <th>31</th>\n",
       "      <td>IN</td>\n",
       "      <td>data:scenarios:takeoff:acceleration:z:equivalent</td>\n",
       "      <td></td>\n",
       "    </tr>\n",
       "    <tr>\n",
       "      <th>32</th>\n",
       "      <td>IN</td>\n",
       "      <td>data:system:MTOW:k</td>\n",
       "      <td></td>\n",
       "    </tr>\n",
       "    <tr>\n",
       "      <th>33</th>\n",
       "      <td>IN</td>\n",
       "      <td>data:system:payload</td>\n",
       "      <td></td>\n",
       "    </tr>\n",
       "    <tr>\n",
       "      <th>34</th>\n",
       "      <td>IN</td>\n",
       "      <td>settings:altitude</td>\n",
       "      <td></td>\n",
       "    </tr>\n",
       "    <tr>\n",
       "      <th>35</th>\n",
       "      <td>OUT</td>\n",
       "      <td>data:battery:capacity</td>\n",
       "      <td></td>\n",
       "    </tr>\n",
       "    <tr>\n",
       "      <th>36</th>\n",
       "      <td>OUT</td>\n",
       "      <td>data:battery:cell:number</td>\n",
       "      <td></td>\n",
       "    </tr>\n",
       "    <tr>\n",
       "      <th>37</th>\n",
       "      <td>OUT</td>\n",
       "      <td>data:battery:energy</td>\n",
       "      <td></td>\n",
       "    </tr>\n",
       "    <tr>\n",
       "      <th>38</th>\n",
       "      <td>OUT</td>\n",
       "      <td>data:battery:energy:constraint</td>\n",
       "      <td></td>\n",
       "    </tr>\n",
       "    <tr>\n",
       "      <th>39</th>\n",
       "      <td>OUT</td>\n",
       "      <td>data:battery:mass</td>\n",
       "      <td></td>\n",
       "    </tr>\n",
       "    <tr>\n",
       "      <th>40</th>\n",
       "      <td>OUT</td>\n",
       "      <td>data:battery:voltage</td>\n",
       "      <td></td>\n",
       "    </tr>\n",
       "    <tr>\n",
       "      <th>41</th>\n",
       "      <td>OUT</td>\n",
       "      <td>data:battery:voltage:constraint</td>\n",
       "      <td></td>\n",
       "    </tr>\n",
       "    <tr>\n",
       "      <th>42</th>\n",
       "      <td>OUT</td>\n",
       "      <td>data:battery:voltage:guess</td>\n",
       "      <td></td>\n",
       "    </tr>\n",
       "    <tr>\n",
       "      <th>43</th>\n",
       "      <td>OUT</td>\n",
       "      <td>data:esc:mass</td>\n",
       "      <td></td>\n",
       "    </tr>\n",
       "    <tr>\n",
       "      <th>44</th>\n",
       "      <td>OUT</td>\n",
       "      <td>data:esc:power</td>\n",
       "      <td></td>\n",
       "    </tr>\n",
       "    <tr>\n",
       "      <th>45</th>\n",
       "      <td>OUT</td>\n",
       "      <td>data:esc:voltage</td>\n",
       "      <td></td>\n",
       "    </tr>\n",
       "    <tr>\n",
       "      <th>46</th>\n",
       "      <td>OUT</td>\n",
       "      <td>data:esc:voltage:constraint</td>\n",
       "      <td></td>\n",
       "    </tr>\n",
       "    <tr>\n",
       "      <th>47</th>\n",
       "      <td>OUT</td>\n",
       "      <td>data:frame:arm:diameter:inner</td>\n",
       "      <td></td>\n",
       "    </tr>\n",
       "    <tr>\n",
       "      <th>48</th>\n",
       "      <td>OUT</td>\n",
       "      <td>data:frame:arm:diameter:outer</td>\n",
       "      <td></td>\n",
       "    </tr>\n",
       "    <tr>\n",
       "      <th>49</th>\n",
       "      <td>OUT</td>\n",
       "      <td>data:frame:arm:length</td>\n",
       "      <td></td>\n",
       "    </tr>\n",
       "    <tr>\n",
       "      <th>50</th>\n",
       "      <td>OUT</td>\n",
       "      <td>data:frame:arm:mass</td>\n",
       "      <td></td>\n",
       "    </tr>\n",
       "    <tr>\n",
       "      <th>51</th>\n",
       "      <td>OUT</td>\n",
       "      <td>data:frame:arm:thickness</td>\n",
       "      <td></td>\n",
       "    </tr>\n",
       "    <tr>\n",
       "      <th>52</th>\n",
       "      <td>OUT</td>\n",
       "      <td>data:frame:mass</td>\n",
       "      <td></td>\n",
       "    </tr>\n",
       "    <tr>\n",
       "      <th>53</th>\n",
       "      <td>OUT</td>\n",
       "      <td>data:frame:separation_angle</td>\n",
       "      <td></td>\n",
       "    </tr>\n",
       "    <tr>\n",
       "      <th>54</th>\n",
       "      <td>OUT</td>\n",
       "      <td>data:mission:energy</td>\n",
       "      <td></td>\n",
       "    </tr>\n",
       "    <tr>\n",
       "      <th>55</th>\n",
       "      <td>OUT</td>\n",
       "      <td>data:mission:hover:energy</td>\n",
       "      <td></td>\n",
       "    </tr>\n",
       "    <tr>\n",
       "      <th>56</th>\n",
       "      <td>OUT</td>\n",
       "      <td>data:motor:Kt</td>\n",
       "      <td></td>\n",
       "    </tr>\n",
       "    <tr>\n",
       "      <th>57</th>\n",
       "      <td>OUT</td>\n",
       "      <td>data:motor:current:hover</td>\n",
       "      <td></td>\n",
       "    </tr>\n",
       "    <tr>\n",
       "      <th>58</th>\n",
       "      <td>OUT</td>\n",
       "      <td>data:motor:current:takeoff</td>\n",
       "      <td></td>\n",
       "    </tr>\n",
       "    <tr>\n",
       "      <th>59</th>\n",
       "      <td>OUT</td>\n",
       "      <td>data:motor:friction</td>\n",
       "      <td></td>\n",
       "    </tr>\n",
       "    <tr>\n",
       "      <th>60</th>\n",
       "      <td>OUT</td>\n",
       "      <td>data:motor:mass</td>\n",
       "      <td></td>\n",
       "    </tr>\n",
       "    <tr>\n",
       "      <th>61</th>\n",
       "      <td>OUT</td>\n",
       "      <td>data:motor:power:hover</td>\n",
       "      <td></td>\n",
       "    </tr>\n",
       "    <tr>\n",
       "      <th>62</th>\n",
       "      <td>OUT</td>\n",
       "      <td>data:motor:power:takeoff</td>\n",
       "      <td></td>\n",
       "    </tr>\n",
       "    <tr>\n",
       "      <th>63</th>\n",
       "      <td>OUT</td>\n",
       "      <td>data:motor:resistance</td>\n",
       "      <td></td>\n",
       "    </tr>\n",
       "    <tr>\n",
       "      <th>64</th>\n",
       "      <td>OUT</td>\n",
       "      <td>data:motor:torque:hover</td>\n",
       "      <td></td>\n",
       "    </tr>\n",
       "    <tr>\n",
       "      <th>65</th>\n",
       "      <td>OUT</td>\n",
       "      <td>data:motor:torque:max</td>\n",
       "      <td></td>\n",
       "    </tr>\n",
       "    <tr>\n",
       "      <th>66</th>\n",
       "      <td>OUT</td>\n",
       "      <td>data:motor:torque:max:constraint</td>\n",
       "      <td></td>\n",
       "    </tr>\n",
       "    <tr>\n",
       "      <th>67</th>\n",
       "      <td>OUT</td>\n",
       "      <td>data:motor:voltage:hover</td>\n",
       "      <td></td>\n",
       "    </tr>\n",
       "    <tr>\n",
       "      <th>68</th>\n",
       "      <td>OUT</td>\n",
       "      <td>data:motor:voltage:takeoff</td>\n",
       "      <td></td>\n",
       "    </tr>\n",
       "    <tr>\n",
       "      <th>69</th>\n",
       "      <td>OUT</td>\n",
       "      <td>data:propeller:Cp</td>\n",
       "      <td></td>\n",
       "    </tr>\n",
       "    <tr>\n",
       "      <th>70</th>\n",
       "      <td>OUT</td>\n",
       "      <td>data:propeller:Ct</td>\n",
       "      <td></td>\n",
       "    </tr>\n",
       "    <tr>\n",
       "      <th>71</th>\n",
       "      <td>OUT</td>\n",
       "      <td>data:propeller:ND</td>\n",
       "      <td></td>\n",
       "    </tr>\n",
       "    <tr>\n",
       "      <th>72</th>\n",
       "      <td>OUT</td>\n",
       "      <td>data:propeller:diameter</td>\n",
       "      <td></td>\n",
       "    </tr>\n",
       "    <tr>\n",
       "      <th>73</th>\n",
       "      <td>OUT</td>\n",
       "      <td>data:propeller:force:hover:z</td>\n",
       "      <td></td>\n",
       "    </tr>\n",
       "    <tr>\n",
       "      <th>74</th>\n",
       "      <td>OUT</td>\n",
       "      <td>data:propeller:force:takeoff:z</td>\n",
       "      <td></td>\n",
       "    </tr>\n",
       "    <tr>\n",
       "      <th>75</th>\n",
       "      <td>OUT</td>\n",
       "      <td>data:propeller:frequency:hover</td>\n",
       "      <td></td>\n",
       "    </tr>\n",
       "    <tr>\n",
       "      <th>76</th>\n",
       "      <td>OUT</td>\n",
       "      <td>data:propeller:frequency:takeoff</td>\n",
       "      <td></td>\n",
       "    </tr>\n",
       "    <tr>\n",
       "      <th>77</th>\n",
       "      <td>OUT</td>\n",
       "      <td>data:propeller:inertia</td>\n",
       "      <td></td>\n",
       "    </tr>\n",
       "    <tr>\n",
       "      <th>78</th>\n",
       "      <td>OUT</td>\n",
       "      <td>data:propeller:mass</td>\n",
       "      <td></td>\n",
       "    </tr>\n",
       "    <tr>\n",
       "      <th>79</th>\n",
       "      <td>OUT</td>\n",
       "      <td>data:propeller:power:hover</td>\n",
       "      <td></td>\n",
       "    </tr>\n",
       "    <tr>\n",
       "      <th>80</th>\n",
       "      <td>OUT</td>\n",
       "      <td>data:propeller:power:takeoff</td>\n",
       "      <td></td>\n",
       "    </tr>\n",
       "    <tr>\n",
       "      <th>81</th>\n",
       "      <td>OUT</td>\n",
       "      <td>data:propeller:speed:hover</td>\n",
       "      <td></td>\n",
       "    </tr>\n",
       "    <tr>\n",
       "      <th>82</th>\n",
       "      <td>OUT</td>\n",
       "      <td>data:propeller:speed:takeoff</td>\n",
       "      <td></td>\n",
       "    </tr>\n",
       "    <tr>\n",
       "      <th>83</th>\n",
       "      <td>OUT</td>\n",
       "      <td>data:propeller:torque:hover</td>\n",
       "      <td></td>\n",
       "    </tr>\n",
       "    <tr>\n",
       "      <th>84</th>\n",
       "      <td>OUT</td>\n",
       "      <td>data:propeller:torque:takeoff</td>\n",
       "      <td></td>\n",
       "    </tr>\n",
       "    <tr>\n",
       "      <th>85</th>\n",
       "      <td>OUT</td>\n",
       "      <td>data:scenarios:hover:force:z</td>\n",
       "      <td></td>\n",
       "    </tr>\n",
       "    <tr>\n",
       "      <th>86</th>\n",
       "      <td>OUT</td>\n",
       "      <td>data:scenarios:takeoff:force:z</td>\n",
       "      <td></td>\n",
       "    </tr>\n",
       "    <tr>\n",
       "      <th>87</th>\n",
       "      <td>OUT</td>\n",
       "      <td>data:system:MTOW</td>\n",
       "      <td></td>\n",
       "    </tr>\n",
       "    <tr>\n",
       "      <th>88</th>\n",
       "      <td>OUT</td>\n",
       "      <td>data:system:MTOW:constraint</td>\n",
       "      <td></td>\n",
       "    </tr>\n",
       "    <tr>\n",
       "      <th>89</th>\n",
       "      <td>OUT</td>\n",
       "      <td>data:system:MTOW:guess</td>\n",
       "      <td></td>\n",
       "    </tr>\n",
       "  </tbody>\n",
       "</table>"
      ],
      "text/plain": [
       "<IPython.core.display.HTML object>"
      ]
     },
     "metadata": {},
     "output_type": "display_data"
    }
   ],
   "source": [
    "api.list_variables(CONFIGURATION_FILE)"
   ]
  },
  {
   "cell_type": "markdown",
   "metadata": {},
   "source": [
    "Another useful feature is to list the modules of the model defined in the configuration file:"
   ]
  },
  {
   "cell_type": "code",
   "execution_count": 3,
   "metadata": {},
   "outputs": [
    {
     "name": "stderr",
     "output_type": "stream",
     "text": [
      "INFO    : Loading bundles from D:\\s.delbecq\\Documents\\6-Repositories\\multirotor_trajectory_optimization\\openmdao\\models\n",
      "INFO    : Installed bundle models.multirotor (ID 30 )\n",
      "INFO    : Installed bundle models.propeller (ID 25 )\n",
      "INFO    : Installed bundle models.mission (ID 29 )\n",
      "INFO    : Installed bundle models.sizing_scenarios (ID 24 )\n",
      "INFO    : Installed bundle models.frame (ID 28 )\n",
      "INFO    : Installed bundle models (ID 31 )\n",
      "INFO    : Installed bundle models.battery_and_esc (ID 27 )\n",
      "INFO    : Installed bundle models.register (ID 32 )\n",
      "INFO    : Installed bundle models.motor (ID 26 )\n",
      "INFO    : Loading bundles from D:\\s.delbecq\\Documents\\6-Repositories\\multirotor_trajectory_optimization\\openmdao\\models\n",
      "INFO    : Installed bundle models.multirotor (ID 30 )\n",
      "INFO    : Installed bundle models.propeller (ID 25 )\n",
      "INFO    : Installed bundle models.mission (ID 29 )\n",
      "INFO    : Installed bundle models.sizing_scenarios (ID 24 )\n",
      "INFO    : Installed bundle models.frame (ID 28 )\n",
      "INFO    : Installed bundle models (ID 31 )\n",
      "INFO    : Installed bundle models.battery_and_esc (ID 27 )\n",
      "INFO    : Installed bundle models.register (ID 32 )\n",
      "INFO    : Installed bundle models.motor (ID 26 )\n"
     ]
    },
    {
     "name": "stdout",
     "output_type": "stream",
     "text": [
      "== AVAILABLE SYSTEM IDENTIFIERS ====================================================================\n",
      "----------------------------------------------------------------------------------------------------\n",
      "  IDENTIFIER:   fastoad.aerodynamics.highspeed.legacy\n",
      "  PATH:         d:\\users\\s.delbecq\\appdata\\local\\programs\\miniconda3\\lib\\site-packages\\fastoad\\models\\aerodynamics\\aerodynamics_high_speed.py\n",
      "  DOMAIN:       Aerodynamics\n",
      "  DESCRIPTION:  \n",
      "    Computes aerodynamic polar of the aircraft in cruise conditions.\n",
      "\n",
      "    Drag contributions of each part of the aircraft are computed though analytical\n",
      "    models.\n",
      "\n",
      "----------------------------------------------------------------------------------------------------\n",
      "  IDENTIFIER:   fastoad.aerodynamics.landing.legacy\n",
      "  PATH:         d:\\users\\s.delbecq\\appdata\\local\\programs\\miniconda3\\lib\\site-packages\\fastoad\\models\\aerodynamics\\aerodynamics_landing.py\n",
      "  DOMAIN:       Aerodynamics\n",
      "  DESCRIPTION:  \n",
      "    Computes aerodynamic characteristics at landing.\n",
      "\n",
      "    - Computes CL and CD increments due to high-lift devices at landing.\n",
      "    - Computes maximum CL of the aircraft in landing conditions.\n",
      "\n",
      "    Maximum 2D CL without high-lift is computed using XFoil (or provided as input if option\n",
      "    use_xfoil is set to False). 3D CL is deduced using sweep angle.\n",
      "\n",
      "    Contribution of high-lift devices is modelled according to their geometry (span and chord ratio)\n",
      "    and their deflection angles.\n",
      "\n",
      "    Options:\n",
      "      - use_xfoil:\n",
      "         - if True, maximum 2D CL without high-lift aerodynamics:aircraft:landing:CL_max_clean_2D\n",
      "           is computed using XFOIL\n",
      "         - if False, aerodynamics:aircraft:landing:CL_max_clean_2D must be provided as input (but\n",
      "           process is faster)\n",
      "      - alpha_min, alpha_max:\n",
      "         - used if use_xfoil is True. Sets the alpha range that is explored to find maximum 2D CL\n",
      "           without high-lift\n",
      "      - xfoil_exe_path:\n",
      "         - the path to the XFOIL executable. Needed for non-Windows OS.\n",
      "\n",
      "----------------------------------------------------------------------------------------------------\n",
      "  IDENTIFIER:   fastoad.aerodynamics.lowspeed.legacy\n",
      "  PATH:         d:\\users\\s.delbecq\\appdata\\local\\programs\\miniconda3\\lib\\site-packages\\fastoad\\models\\aerodynamics\\aerodynamics_low_speed.py\n",
      "  DOMAIN:       Aerodynamics\n",
      "  DESCRIPTION:  \n",
      "    Models for low speed aerodynamics\n",
      "\n",
      "----------------------------------------------------------------------------------------------------\n",
      "  IDENTIFIER:   fastoad.aerodynamics.takeoff.legacy\n",
      "  PATH:         d:\\users\\s.delbecq\\appdata\\local\\programs\\miniconda3\\lib\\site-packages\\fastoad\\models\\aerodynamics\\aerodynamics_takeoff.py\n",
      "  DOMAIN:       Aerodynamics\n",
      "  DESCRIPTION:  \n",
      "    Computes aerodynamic characteristics at takeoff.\n",
      "\n",
      "    - Computes CL and CD increments due to high-lift devices at takeoff.\n",
      "\n",
      "----------------------------------------------------------------------------------------------------\n",
      "  IDENTIFIER:   fastoad.geometry.legacy\n",
      "  PATH:         d:\\users\\s.delbecq\\appdata\\local\\programs\\miniconda3\\lib\\site-packages\\fastoad\\models\\geometry\\geometry.py\n",
      "  DOMAIN:       Geometry\n",
      "  DESCRIPTION:  \n",
      "    Computes geometric characteristics of the (tube-wing) aircraft:\n",
      "      - fuselage size is computed from payload requirements\n",
      "      - wing dimensions are computed from global parameters (area, taper ratio...)\n",
      "      - tail planes are dimensioned from HQ requirements\n",
      "\n",
      "    This module also computes centers of gravity and static margin\n",
      "\n",
      "----------------------------------------------------------------------------------------------------\n",
      "  IDENTIFIER:   fastoad.handling_qualities.static_margin\n",
      "  PATH:         d:\\users\\s.delbecq\\appdata\\local\\programs\\miniconda3\\lib\\site-packages\\fastoad\\models\\handling_qualities\\compute_static_margin.py\n",
      "  DOMAIN:       Handling Qualities\n",
      "  DESCRIPTION:  \n",
      "    Computation of static margin i.e. difference between CG ratio and neutral\n",
      "    point.\n",
      "\n",
      "----------------------------------------------------------------------------------------------------\n",
      "  IDENTIFIER:   fastoad.handling_qualities.tail_sizing\n",
      "  PATH:         d:\\users\\s.delbecq\\appdata\\local\\programs\\miniconda3\\lib\\site-packages\\fastoad\\models\\handling_qualities\\tail_sizing\\compute_tail_areas.py\n",
      "  DOMAIN:       Handling Qualities\n",
      "  DESCRIPTION:  \n",
      "    Computes areas of vertical and horizontal tail.\n",
      "\n",
      "    - Horizontal tail area is computed so it can balance pitching moment of\n",
      "      aircraft at rotation speed.\n",
      "    - Vertical tail area is computed so aircraft can have the CNbeta in cruise\n",
      "      conditions\n",
      "\n",
      "----------------------------------------------------------------------------------------------------\n",
      "  IDENTIFIER:   fastoad.loop.mtow\n",
      "  PATH:         d:\\users\\s.delbecq\\appdata\\local\\programs\\miniconda3\\lib\\site-packages\\fastoad\\models\\weight\\mass_breakdown\\mass_breakdown.py\n",
      "  DOMAIN:       Weight\n",
      "  DESCRIPTION:  \n",
      "    Computes MTOW from OWE, design payload and consumed fuel in sizing mission.\n",
      "\n",
      "----------------------------------------------------------------------------------------------------\n",
      "  IDENTIFIER:   fastoad.loop.wing_area\n",
      "  PATH:         d:\\users\\s.delbecq\\appdata\\local\\programs\\miniconda3\\lib\\site-packages\\fastoad\\models\\loops\\compute_wing_area.py\n",
      "  DOMAIN:       Other\n",
      "  DESCRIPTION:  \n",
      "    Computes needed wing area for:\n",
      "      - having enough lift at required approach speed\n",
      "      - being able to load enough fuel to achieve the sizing mission\n",
      "\n",
      "----------------------------------------------------------------------------------------------------\n",
      "  IDENTIFIER:   fastoad.performances.breguet\n",
      "  PATH:         d:\\users\\s.delbecq\\appdata\\local\\programs\\miniconda3\\lib\\site-packages\\fastoad\\models\\performances\\breguet\\openmdao.py\n",
      "  DOMAIN:       Performance\n",
      "  DESCRIPTION:  \n",
      "    Estimation of fuel consumption through Breguet formula.\n",
      "\n",
      "    It uses a rough estimate of climb and descent phases.\n",
      "\n",
      "    MTOW (Max TakeOff Weight) being an input, the model computes the ZFW (Zero Fuel\n",
      "    Weight) considering that all fuel but the reserve has been consumed during the\n",
      "    mission.\n",
      "    This model does not ensure consistency with OWE (Operating Empty Weight).\n",
      "\n",
      "----------------------------------------------------------------------------------------------------\n",
      "  IDENTIFIER:   fastoad.performances.sizing_mission\n",
      "  PATH:         d:\\users\\s.delbecq\\appdata\\local\\programs\\miniconda3\\lib\\site-packages\\fastoad\\models\\performances\\mission\\openmdao\\sizing_mission.py\n",
      "  DOMAIN:       Performance\n",
      "  DESCRIPTION:  \n",
      "----------------------------------------------------------------------------------------------------\n",
      "  IDENTIFIER:   fastoad.propulsion.rubber_engine\n",
      "  PATH:         d:\\users\\s.delbecq\\appdata\\local\\programs\\miniconda3\\lib\\site-packages\\fastoad\\models\\propulsion\\fuel_propulsion\\rubber_engine\\openmdao.py\n",
      "  DOMAIN:       Propulsion\n",
      "  DESCRIPTION:  \n",
      "    Parametric engine model as OpenMDAO component.\n",
      "\n",
      "    Implementation of E. Roux models for fuel consumption of low bypass ratio engines\n",
      "    For more information, see RubberEngine class in FAST-OAD developer documentation.\n",
      "\n",
      "----------------------------------------------------------------------------------------------------\n",
      "  IDENTIFIER:   fastoad.weight.legacy\n",
      "  PATH:         d:\\users\\s.delbecq\\appdata\\local\\programs\\miniconda3\\lib\\site-packages\\fastoad\\models\\weight\\weight.py\n",
      "  DOMAIN:       Weight\n",
      "  DESCRIPTION:  \n",
      "    Computes masses and Centers of Gravity for each part of the empty operating aircraft, among\n",
      "    these 5 categories:\n",
      "    airframe, propulsion, systems, furniture, crew\n",
      "\n",
      "    This model uses MTOW as an input, as it allows to size some elements, but resulting OWE do\n",
      "    not aim at being consistent with MTOW.\n",
      "\n",
      "    Consistency between OWE and MTOW can be achieved by cycling with a model that computes MTOW\n",
      "    from OWE, which should come from a mission computation that will assess needed block fuel.\n",
      "\n",
      "----------------------------------------------------------------------------------------------------\n",
      "  IDENTIFIER:   multirotor.battery_and_esc\n",
      "  PATH:         D:\\s.delbecq\\Documents\\6-Repositories\\multirotor_trajectory_optimization\\openmdao\\models\\battery_and_esc.py\n",
      "  DOMAIN:       Unspecified\n",
      "  DESCRIPTION:  \n",
      "----------------------------------------------------------------------------------------------------\n",
      "  IDENTIFIER:   multirotor.frame\n",
      "  PATH:         D:\\s.delbecq\\Documents\\6-Repositories\\multirotor_trajectory_optimization\\openmdao\\models\\frame.py\n",
      "  DOMAIN:       Unspecified\n",
      "  DESCRIPTION:  \n",
      "----------------------------------------------------------------------------------------------------\n",
      "  IDENTIFIER:   multirotor.mission\n",
      "  PATH:         D:\\s.delbecq\\Documents\\6-Repositories\\multirotor_trajectory_optimization\\openmdao\\models\\mission.py\n",
      "  DOMAIN:       Unspecified\n",
      "  DESCRIPTION:  \n",
      "    Computes the energy for the mission\n",
      "\n",
      "----------------------------------------------------------------------------------------------------\n",
      "  IDENTIFIER:   multirotor.motor\n",
      "  PATH:         D:\\s.delbecq\\Documents\\6-Repositories\\multirotor_trajectory_optimization\\openmdao\\models\\motor.py\n",
      "  DOMAIN:       Unspecified\n",
      "  DESCRIPTION:  \n",
      "----------------------------------------------------------------------------------------------------\n",
      "  IDENTIFIER:   multirotor.propeller\n",
      "  PATH:         D:\\s.delbecq\\Documents\\6-Repositories\\multirotor_trajectory_optimization\\openmdao\\models\\propeller.py\n",
      "  DOMAIN:       Unspecified\n",
      "  DESCRIPTION:  \n",
      "----------------------------------------------------------------------------------------------------\n",
      "  IDENTIFIER:   multirotor.sizing_scenarios\n",
      "  PATH:         D:\\s.delbecq\\Documents\\6-Repositories\\multirotor_trajectory_optimization\\openmdao\\models\\sizing_scenarios.py\n",
      "  DOMAIN:       Unspecified\n",
      "  DESCRIPTION:  \n",
      "    Computes hover and takeoff lifting forces\n",
      "\n",
      "----------------------------------------------------------------------------------------------------\n",
      "  IDENTIFIER:   multirotor.system_constraints\n",
      "  PATH:         D:\\s.delbecq\\Documents\\6-Repositories\\multirotor_trajectory_optimization\\openmdao\\models\\multirotor.py\n",
      "  DOMAIN:       Unspecified\n",
      "  DESCRIPTION:  \n",
      "----------------------------------------------------------------------------------------------------\n",
      "====================================================================================================\n",
      "\n",
      "== AVAILABLE PROPULSION WRAPPER IDENTIFIERS ========================================================\n",
      "----------------------------------------------------------------------------------------------------\n",
      "  IDENTIFIER:   fastoad.wrapper.propulsion.rubber_engine\n",
      "  PATH:         d:\\users\\s.delbecq\\appdata\\local\\programs\\miniconda3\\lib\\site-packages\\fastoad\\models\\propulsion\\fuel_propulsion\\rubber_engine\\openmdao.py\n",
      "  DESCRIPTION:  \n",
      "    Parametric engine model as OpenMDAO component.\n",
      "\n",
      "    Implementation of E. Roux models for fuel consumption of low bypass ratio engines\n",
      "    For more information, see RubberEngine class in FAST-OAD developer documentation.\n",
      "\n",
      "----------------------------------------------------------------------------------------------------\n",
      "====================================================================================================\n"
     ]
    }
   ],
   "source": [
    "api.list_systems(CONFIGURATION_FILE)"
   ]
  },
  {
   "cell_type": "markdown",
   "metadata": {},
   "source": [
    "Another useful feature is the [N2 diagram](http://openmdao.org/twodocs/versions/latest/basic_guide/make_n2.html) visualization available in OpenMDAO to see the structure of the model:"
   ]
  },
  {
   "cell_type": "code",
   "execution_count": 4,
   "metadata": {},
   "outputs": [
    {
     "name": "stderr",
     "output_type": "stream",
     "text": [
      "INFO    : Loading bundles from D:\\s.delbecq\\Documents\\6-Repositories\\multirotor_trajectory_optimization\\openmdao\\models\n",
      "INFO    : Installed bundle models.multirotor (ID 30 )\n",
      "INFO    : Installed bundle models.propeller (ID 25 )\n",
      "INFO    : Installed bundle models.mission (ID 29 )\n",
      "INFO    : Installed bundle models.sizing_scenarios (ID 24 )\n",
      "INFO    : Installed bundle models.frame (ID 28 )\n",
      "INFO    : Installed bundle models (ID 31 )\n",
      "INFO    : Installed bundle models.battery_and_esc (ID 27 )\n",
      "INFO    : Installed bundle models.register (ID 32 )\n",
      "INFO    : Installed bundle models.motor (ID 26 )\n",
      "d:\\users\\s.delbecq\\appdata\\local\\programs\\miniconda3\\lib\\site-packages\\openmdao\\core\\group.py:1937: UserWarning:<model> <class Group>: Output 'motor.current_and_voltage.data:motor:power:hover' with units of 'W' is connected to input 'mission.data:motor:power:hover' which has no units.\n",
      "INFO    : N2 diagram written in D:\\s.delbecq\\Documents\\6-Repositories\\multirotor_trajectory_optimization\\openmdao\\workdir\\n2.html\n"
     ]
    },
    {
     "data": {
      "text/html": [
       "\n",
       "        <iframe\n",
       "            width=\"100%\"\n",
       "            height=\"500px\"\n",
       "            src=\"workdir\\n2.html\"\n",
       "            frameborder=\"0\"\n",
       "            allowfullscreen\n",
       "        ></iframe>\n",
       "        "
      ],
      "text/plain": [
       "<IPython.lib.display.IFrame at 0x27d0ba64fa0>"
      ]
     },
     "execution_count": 4,
     "metadata": {},
     "output_type": "execute_result"
    }
   ],
   "source": [
    "N2_FILE = pth.join(WORK_FOLDER_PATH, 'n2.html')\n",
    "api.write_n2(CONFIGURATION_FILE, N2_FILE, overwrite=True)\n",
    "from IPython.display import IFrame\n",
    "IFrame(src=N2_FILE, width='100%', height='500px')"
   ]
  },
  {
   "cell_type": "markdown",
   "metadata": {},
   "source": [
    "Alternatively, you can create a [WhatsOpt](https://github.com/OneraHub/WhatsOpt-Doc#whatsopt-documentation) account to generate the XDSM of the problem. If your account is created, you may uncomment next lines and run them (this should take ~ 1 min):"
   ]
  },
  {
   "cell_type": "code",
   "execution_count": 5,
   "metadata": {},
   "outputs": [],
   "source": [
    "# XDSM_FILE = pth.join(WORK_FOLDER_PATH, 'xdsm.html')\n",
    "# api.write_xdsm(CONFIGURATION_FILE, XDSM_FILE, overwrite=True)\n",
    "# from IPython.display import IFrame\n",
    "# IFrame(src=XDSM_FILE, width='100%', height='500px')"
   ]
  },
  {
   "cell_type": "markdown",
   "metadata": {},
   "source": [
    "## 2. Running your first MDA"
   ]
  },
  {
   "cell_type": "markdown",
   "metadata": {},
   "source": [
    "### CeRAS\n",
    "Here we run an MDA, that is solving the multidisciplinary couplings using the different nested solvers in the model, without running the optimization problem even if it is defined in the configuration file."
   ]
  },
  {
   "cell_type": "code",
   "execution_count": 2,
   "metadata": {},
   "outputs": [
    {
     "name": "stderr",
     "output_type": "stream",
     "text": [
      "INFO    : Loading bundles from D:\\s.delbecq\\Documents\\6-Repositories\\multirotor_trajectory_optimization\\openmdao\\models\n",
      "INFO    : Installed bundle models.frame (ID 28 )\n",
      "INFO    : Installed bundle models.sizing_scenarios (ID 24 )\n",
      "INFO    : Installed bundle models.mission (ID 29 )\n",
      "INFO    : Installed bundle models.propeller (ID 25 )\n",
      "INFO    : Installed bundle models.multirotor (ID 30 )\n",
      "INFO    : Installed bundle models.motor (ID 26 )\n",
      "INFO    : Installed bundle models (ID 31 )\n",
      "INFO    : Installed bundle models.battery_and_esc (ID 27 )\n",
      "INFO    : Installed bundle models.register (ID 32 )\n",
      "d:\\users\\s.delbecq\\appdata\\local\\programs\\miniconda3\\lib\\site-packages\\openmdao\\core\\group.py:1937: UserWarning:<model> <class Group>: Output 'motor.current_and_voltage.data:motor:power:hover' with units of 'W' is connected to input 'mission.data:motor:power:hover' which has no units.\n",
      "INFO    : Computation finished after 0.03 seconds\n",
      "INFO    : Problem outputs written in D:\\s.delbecq\\Documents\\6-Repositories\\multirotor_trajectory_optimization\\openmdao\\problem_outputs.xml\n"
     ]
    }
   ],
   "source": [
    "eval_problem = api.evaluate_problem(CONFIGURATION_FILE, overwrite=True)"
   ]
  },
  {
   "cell_type": "markdown",
   "metadata": {},
   "source": [
    "Let's save these results. We will use them in the next workbook, that shows some post-processing utilities."
   ]
  },
  {
   "cell_type": "code",
   "execution_count": 3,
   "metadata": {},
   "outputs": [
    {
     "data": {
      "text/plain": [
       "'workdir\\\\multirotor_outputs.xml'"
      ]
     },
     "execution_count": 3,
     "metadata": {},
     "output_type": "execute_result"
    }
   ],
   "source": [
    "OUTPUT_FILE = pth.join('problem_outputs.xml')\n",
    "CeRAS_OUTPUT_FILE = pth.join(WORK_FOLDER_PATH, 'multirotor_outputs.xml')\n",
    "shutil.copy(OUTPUT_FILE, CeRAS_OUTPUT_FILE)"
   ]
  },
  {
   "cell_type": "markdown",
   "metadata": {},
   "source": [
    "The `variable-viewer` provides a way to inspect the content of the XML file. The dropdown lists above the table allow to filter the displayed variable."
   ]
  },
  {
   "cell_type": "code",
   "execution_count": 4,
   "metadata": {},
   "outputs": [
    {
     "data": {
      "application/vnd.jupyter.widget-view+json": {
       "model_id": "3ef6d36fe0be4ea48de2564a4cbb9ed6",
       "version_major": 2,
       "version_minor": 0
      },
      "text/plain": [
       "VBox(children=(HBox(children=(Button(description='Load', icon='upload', style=ButtonStyle(), tooltip='Load the…"
      ]
     },
     "metadata": {},
     "output_type": "display_data"
    }
   ],
   "source": [
    "api.variable_viewer(OUTPUT_FILE)"
   ]
  },
  {
   "cell_type": "markdown",
   "metadata": {},
   "source": [
    "In particular, you may inspect the `data:handling_qualities:static_margin` variable.\n",
    "You will see that its value is slightly negative, which means that the current aircraft configuration is estimated as unstable. We will see later how we can correct this point."
   ]
  },
  {
   "cell_type": "markdown",
   "metadata": {},
   "source": [
    "### CeRAS for 800 nm range\n",
    "Here we run an MDA but we change one of the Top Level Aircraft Requirement (TLAR): the range. We choose a 800 nm range instead of the 2400 nm of the CeRAS. For that we use the `VariableViewer` tool on the input file to change the range (do not forget to save!). Just like this:\n",
    "![variable_viewer](./img/variable_viewer_change_range.gif)"
   ]
  },
  {
   "cell_type": "code",
   "execution_count": null,
   "metadata": {
    "scrolled": true
   },
   "outputs": [],
   "source": [
    "INPUT_FILE = pth.join(WORK_FOLDER_PATH, 'problem_inputs.xml')\n",
    "api.variable_viewer(INPUT_FILE)"
   ]
  },
  {
   "cell_type": "markdown",
   "metadata": {},
   "source": [
    "Now that the range has been changed, we run again the MDA."
   ]
  },
  {
   "cell_type": "code",
   "execution_count": null,
   "metadata": {},
   "outputs": [],
   "source": [
    "eval_problem = api.evaluate_problem(CONFIGURATION_FILE, overwrite=True)"
   ]
  },
  {
   "cell_type": "markdown",
   "metadata": {},
   "source": [
    "Let's save again these new results, for post-processing them in next notebook."
   ]
  },
  {
   "cell_type": "code",
   "execution_count": null,
   "metadata": {},
   "outputs": [],
   "source": [
    "OUTPUT_FILE = pth.join(WORK_FOLDER_PATH, 'problem_outputs.xml')\n",
    "CeRAS_800nm_OUTPUT_FILE = pth.join(WORK_FOLDER_PATH, 'problem_outputs_CeRAS_800nm_mda.xml')\n",
    "shutil.copy(OUTPUT_FILE, CeRAS_800nm_OUTPUT_FILE)"
   ]
  },
  {
   "cell_type": "markdown",
   "metadata": {},
   "source": [
    "## 3. Running your first MDO\n",
    "\n",
    "## CeRAS 2750 nm optimization\n",
    "\n",
    "As seen earlier, the current aircraft configuration is estimated as unstable. We will fix this using a simple optimization problem that will move wing position so the static margin is at least +5%, while keeping the fuel consumption as low as possible. \n",
    "\n",
    "The default configuration file defines this optimization problem that aims at:\n",
    "- minimizing the fuel consumption for the mission (objective),\n",
    "- with respect to the wing position (design variables),\n",
    "- subject to a static margin (constraints).\n",
    "\n",
    "*(This run should take a few dozen seconds)*"
   ]
  },
  {
   "cell_type": "code",
   "execution_count": null,
   "metadata": {},
   "outputs": [],
   "source": [
    "# Set back the inputs from the reference CeRAS 2750 nm\n",
    "api.generate_inputs(CONFIGURATION_FILE, SOURCE_FILE, overwrite=True)"
   ]
  },
  {
   "cell_type": "markdown",
   "metadata": {},
   "source": [
    "To visualize and edit the optimization problem definition (present in the configuration file .toml) you can use the `optimization_viewer` tool. If design variables or constraints have active bounds they are yellow whereas they are red if they are violated. Modifiying the `Initial Value` will modify the input file defined in the configuration file .toml whereas `Value` corresponds to the value found in the output file defined in the configuration file (here it is the 800 nm MDA run)."
   ]
  },
  {
   "cell_type": "code",
   "execution_count": null,
   "metadata": {},
   "outputs": [],
   "source": [
    "api.optimization_viewer(CONFIGURATION_FILE)"
   ]
  },
  {
   "cell_type": "code",
   "execution_count": null,
   "metadata": {
    "jupyter": {
     "outputs_hidden": true
    }
   },
   "outputs": [],
   "source": [
    "optim_problem = api.optimize_problem(CONFIGURATION_FILE, overwrite=True)"
   ]
  },
  {
   "cell_type": "markdown",
   "metadata": {},
   "source": [
    "Let's save these results:"
   ]
  },
  {
   "cell_type": "code",
   "execution_count": null,
   "metadata": {},
   "outputs": [],
   "source": [
    "OUTPUT_FILE = pth.join(WORK_FOLDER_PATH, 'problem_outputs.xml')\n",
    "CeRAS_OPT_OUTPUT_FILE = pth.join(WORK_FOLDER_PATH, 'problem_outputs_CeRAS_2750nm_mdo.xml')\n",
    "shutil.copy(OUTPUT_FILE, CeRAS_OPT_OUTPUT_FILE)"
   ]
  },
  {
   "cell_type": "markdown",
   "metadata": {},
   "source": [
    "The `optimizer_viewer` offers a convenient summary of the optimization result:"
   ]
  },
  {
   "cell_type": "code",
   "execution_count": null,
   "metadata": {
    "scrolled": false
   },
   "outputs": [],
   "source": [
    "api.optimization_viewer(CONFIGURATION_FILE)"
   ]
  },
  {
   "cell_type": "markdown",
   "metadata": {},
   "source": [
    "You can use the `VariableViewer` tool to see the optimization results for all variables of the system by loading the .xml output file:"
   ]
  },
  {
   "cell_type": "code",
   "execution_count": null,
   "metadata": {},
   "outputs": [],
   "source": [
    "RESULT_FILE = pth.join(WORK_FOLDER_PATH, 'problem_outputs.xml')"
   ]
  },
  {
   "cell_type": "code",
   "execution_count": null,
   "metadata": {},
   "outputs": [],
   "source": [
    "api.variable_viewer(RESULT_FILE)"
   ]
  },
  {
   "cell_type": "code",
   "execution_count": 1,
   "metadata": {},
   "outputs": [
    {
     "name": "stdout",
     "output_type": "stream",
     "text": [
      "Unable to import mpi4py. Parallel processing unavailable.\n",
      "Unable to import petsc4py. Parallel processing unavailable.\n",
      "Unable to import petsc4py. Parallel processing unavailable.\n"
     ]
    },
    {
     "ename": "RuntimeError",
     "evalue": "<model> <class Multirotor>: Output name 'data:system:MTOW' refers to multiple outputs: ['mtow.data:system:MTOW', 'system_constraints.mtow.data:system:MTOW'].",
     "output_type": "error",
     "traceback": [
      "\u001b[1;31m---------------------------------------------------------------------------\u001b[0m",
      "\u001b[1;31mRuntimeError\u001b[0m                              Traceback (most recent call last)",
      "\u001b[1;32m<ipython-input-1-49ce57d96431>\u001b[0m in \u001b[0;36m<module>\u001b[1;34m\u001b[0m\n\u001b[0;32m      4\u001b[0m \u001b[0mprob\u001b[0m \u001b[1;33m=\u001b[0m \u001b[0mom\u001b[0m\u001b[1;33m.\u001b[0m\u001b[0mProblem\u001b[0m\u001b[1;33m(\u001b[0m\u001b[1;33m)\u001b[0m\u001b[1;33m\u001b[0m\u001b[1;33m\u001b[0m\u001b[0m\n\u001b[0;32m      5\u001b[0m \u001b[0mprob\u001b[0m\u001b[1;33m.\u001b[0m\u001b[0mmodel\u001b[0m \u001b[1;33m=\u001b[0m \u001b[0mMultirotor\u001b[0m\u001b[1;33m(\u001b[0m\u001b[1;33m)\u001b[0m\u001b[1;33m\u001b[0m\u001b[1;33m\u001b[0m\u001b[0m\n\u001b[1;32m----> 6\u001b[1;33m \u001b[0mprob\u001b[0m\u001b[1;33m.\u001b[0m\u001b[0msetup\u001b[0m\u001b[1;33m(\u001b[0m\u001b[1;33m)\u001b[0m\u001b[1;33m\u001b[0m\u001b[1;33m\u001b[0m\u001b[0m\n\u001b[0m",
      "\u001b[1;32md:\\users\\s.delbecq\\appdata\\local\\programs\\miniconda3\\lib\\site-packages\\openmdao\\core\\problem.py\u001b[0m in \u001b[0;36msetup\u001b[1;34m(self, check, logger, mode, force_alloc_complex, distributed_vector_class, local_vector_class, derivatives)\u001b[0m\n\u001b[0;32m    901\u001b[0m                                               \u001b[1;31m# src data for inputs)\u001b[0m\u001b[1;33m\u001b[0m\u001b[1;33m\u001b[0m\u001b[1;33m\u001b[0m\u001b[0m\n\u001b[0;32m    902\u001b[0m         }\n\u001b[1;32m--> 903\u001b[1;33m         \u001b[0mmodel\u001b[0m\u001b[1;33m.\u001b[0m\u001b[0m_setup\u001b[0m\u001b[1;33m(\u001b[0m\u001b[0mmodel_comm\u001b[0m\u001b[1;33m,\u001b[0m \u001b[0mmode\u001b[0m\u001b[1;33m,\u001b[0m \u001b[0mself\u001b[0m\u001b[1;33m.\u001b[0m\u001b[0m_metadata\u001b[0m\u001b[1;33m)\u001b[0m\u001b[1;33m\u001b[0m\u001b[1;33m\u001b[0m\u001b[0m\n\u001b[0m\u001b[0;32m    904\u001b[0m \u001b[1;33m\u001b[0m\u001b[0m\n\u001b[0;32m    905\u001b[0m         \u001b[1;31m# set static mode back to True in all systems in this Problem\u001b[0m\u001b[1;33m\u001b[0m\u001b[1;33m\u001b[0m\u001b[1;33m\u001b[0m\u001b[0m\n",
      "\u001b[1;32md:\\users\\s.delbecq\\appdata\\local\\programs\\miniconda3\\lib\\site-packages\\openmdao\\core\\system.py\u001b[0m in \u001b[0;36m_setup\u001b[1;34m(self, comm, mode, prob_meta)\u001b[0m\n\u001b[0;32m    721\u001b[0m         \u001b[0mself\u001b[0m\u001b[1;33m.\u001b[0m\u001b[0m_configure_check\u001b[0m\u001b[1;33m(\u001b[0m\u001b[1;33m)\u001b[0m\u001b[1;33m\u001b[0m\u001b[1;33m\u001b[0m\u001b[0m\n\u001b[0;32m    722\u001b[0m \u001b[1;33m\u001b[0m\u001b[0m\n\u001b[1;32m--> 723\u001b[1;33m         \u001b[0mself\u001b[0m\u001b[1;33m.\u001b[0m\u001b[0m_setup_var_data\u001b[0m\u001b[1;33m(\u001b[0m\u001b[1;33m)\u001b[0m\u001b[1;33m\u001b[0m\u001b[1;33m\u001b[0m\u001b[0m\n\u001b[0m\u001b[0;32m    724\u001b[0m \u001b[1;33m\u001b[0m\u001b[0m\n\u001b[0;32m    725\u001b[0m         \u001b[0mself\u001b[0m\u001b[1;33m.\u001b[0m\u001b[0m_setup_vec_names\u001b[0m\u001b[1;33m(\u001b[0m\u001b[0mmode\u001b[0m\u001b[1;33m)\u001b[0m\u001b[1;33m\u001b[0m\u001b[1;33m\u001b[0m\u001b[0m\n",
      "\u001b[1;32md:\\users\\s.delbecq\\appdata\\local\\programs\\miniconda3\\lib\\site-packages\\openmdao\\core\\group.py\u001b[0m in \u001b[0;36m_setup_var_data\u001b[1;34m(self)\u001b[0m\n\u001b[0;32m   1062\u001b[0m         \u001b[1;32mfor\u001b[0m \u001b[0mprom_name\u001b[0m\u001b[1;33m,\u001b[0m \u001b[0mabs_list\u001b[0m \u001b[1;32min\u001b[0m \u001b[0mallprocs_prom2abs_list\u001b[0m\u001b[1;33m[\u001b[0m\u001b[1;34m'output'\u001b[0m\u001b[1;33m]\u001b[0m\u001b[1;33m.\u001b[0m\u001b[0mitems\u001b[0m\u001b[1;33m(\u001b[0m\u001b[1;33m)\u001b[0m\u001b[1;33m:\u001b[0m\u001b[1;33m\u001b[0m\u001b[1;33m\u001b[0m\u001b[0m\n\u001b[0;32m   1063\u001b[0m             \u001b[1;32mif\u001b[0m \u001b[0mlen\u001b[0m\u001b[1;33m(\u001b[0m\u001b[0mabs_list\u001b[0m\u001b[1;33m)\u001b[0m \u001b[1;33m>\u001b[0m \u001b[1;36m1\u001b[0m\u001b[1;33m:\u001b[0m\u001b[1;33m\u001b[0m\u001b[1;33m\u001b[0m\u001b[0m\n\u001b[1;32m-> 1064\u001b[1;33m                 raise RuntimeError(\"{}: Output name '{}' refers to \"\n\u001b[0m\u001b[0;32m   1065\u001b[0m                                    \"multiple outputs: {}.\".format(self.msginfo, prom_name,\n\u001b[0;32m   1066\u001b[0m                                                                   sorted(abs_list)))\n",
      "\u001b[1;31mRuntimeError\u001b[0m: <model> <class Multirotor>: Output name 'data:system:MTOW' refers to multiple outputs: ['mtow.data:system:MTOW', 'system_constraints.mtow.data:system:MTOW']."
     ]
    }
   ],
   "source": [
    "import openmdao.api as om\n",
    "from models.multirotor import Multirotor\n",
    "\n",
    "prob = om.Problem()\n",
    "prob.model = Multirotor()\n",
    "prob.setup()"
   ]
  },
  {
   "cell_type": "code",
   "execution_count": null,
   "metadata": {},
   "outputs": [],
   "source": []
  }
 ],
 "metadata": {
  "kernelspec": {
   "display_name": "Python 3",
   "language": "python",
   "name": "python3"
  },
  "language_info": {
   "codemirror_mode": {
    "name": "ipython",
    "version": 3
   },
   "file_extension": ".py",
   "mimetype": "text/x-python",
   "name": "python",
   "nbconvert_exporter": "python",
   "pygments_lexer": "ipython3",
   "version": "3.8.3"
  }
 },
 "nbformat": 4,
 "nbformat_minor": 4
}
